{
 "cells": [
  {
   "cell_type": "code",
   "execution_count": 1,
   "metadata": {
    "colab": {
     "base_uri": "https://localhost:8080/"
    },
    "collapsed": true,
    "executionInfo": {
     "elapsed": 16399,
     "status": "ok",
     "timestamp": 1756887629994,
     "user": {
      "displayName": "VBS Analytics",
      "userId": "12942825704271409009"
     },
     "user_tz": -330
    },
    "id": "2n0NtmPmPfAf",
    "outputId": "9b60d56f-a592-443e-fe5a-98412fba3ae8"
   },
   "outputs": [
    {
     "name": "stdout",
     "output_type": "stream",
     "text": [
      "Requirement already satisfied: transformers in /usr/local/lib/python3.12/dist-packages (4.55.4)\n",
      "Requirement already satisfied: torch in /usr/local/lib/python3.12/dist-packages (2.8.0+cu126)\n",
      "Requirement already satisfied: filelock in /usr/local/lib/python3.12/dist-packages (from transformers) (3.19.1)\n",
      "Requirement already satisfied: huggingface-hub<1.0,>=0.34.0 in /usr/local/lib/python3.12/dist-packages (from transformers) (0.34.4)\n",
      "Requirement already satisfied: numpy>=1.17 in /usr/local/lib/python3.12/dist-packages (from transformers) (2.0.2)\n",
      "Requirement already satisfied: packaging>=20.0 in /usr/local/lib/python3.12/dist-packages (from transformers) (25.0)\n",
      "Requirement already satisfied: pyyaml>=5.1 in /usr/local/lib/python3.12/dist-packages (from transformers) (6.0.2)\n",
      "Requirement already satisfied: regex!=2019.12.17 in /usr/local/lib/python3.12/dist-packages (from transformers) (2024.11.6)\n",
      "Requirement already satisfied: requests in /usr/local/lib/python3.12/dist-packages (from transformers) (2.32.4)\n",
      "Requirement already satisfied: tokenizers<0.22,>=0.21 in /usr/local/lib/python3.12/dist-packages (from transformers) (0.21.4)\n",
      "Requirement already satisfied: safetensors>=0.4.3 in /usr/local/lib/python3.12/dist-packages (from transformers) (0.6.2)\n",
      "Requirement already satisfied: tqdm>=4.27 in /usr/local/lib/python3.12/dist-packages (from transformers) (4.67.1)\n",
      "Requirement already satisfied: typing-extensions>=4.10.0 in /usr/local/lib/python3.12/dist-packages (from torch) (4.15.0)\n",
      "Requirement already satisfied: setuptools in /usr/local/lib/python3.12/dist-packages (from torch) (75.2.0)\n",
      "Requirement already satisfied: sympy>=1.13.3 in /usr/local/lib/python3.12/dist-packages (from torch) (1.13.3)\n",
      "Requirement already satisfied: networkx in /usr/local/lib/python3.12/dist-packages (from torch) (3.5)\n",
      "Requirement already satisfied: jinja2 in /usr/local/lib/python3.12/dist-packages (from torch) (3.1.6)\n",
      "Requirement already satisfied: fsspec in /usr/local/lib/python3.12/dist-packages (from torch) (2025.3.0)\n",
      "Requirement already satisfied: nvidia-cuda-nvrtc-cu12==12.6.77 in /usr/local/lib/python3.12/dist-packages (from torch) (12.6.77)\n",
      "Requirement already satisfied: nvidia-cuda-runtime-cu12==12.6.77 in /usr/local/lib/python3.12/dist-packages (from torch) (12.6.77)\n",
      "Requirement already satisfied: nvidia-cuda-cupti-cu12==12.6.80 in /usr/local/lib/python3.12/dist-packages (from torch) (12.6.80)\n",
      "Requirement already satisfied: nvidia-cudnn-cu12==9.10.2.21 in /usr/local/lib/python3.12/dist-packages (from torch) (9.10.2.21)\n",
      "Requirement already satisfied: nvidia-cublas-cu12==12.6.4.1 in /usr/local/lib/python3.12/dist-packages (from torch) (12.6.4.1)\n",
      "Requirement already satisfied: nvidia-cufft-cu12==11.3.0.4 in /usr/local/lib/python3.12/dist-packages (from torch) (11.3.0.4)\n",
      "Requirement already satisfied: nvidia-curand-cu12==10.3.7.77 in /usr/local/lib/python3.12/dist-packages (from torch) (10.3.7.77)\n",
      "Requirement already satisfied: nvidia-cusolver-cu12==11.7.1.2 in /usr/local/lib/python3.12/dist-packages (from torch) (11.7.1.2)\n",
      "Requirement already satisfied: nvidia-cusparse-cu12==12.5.4.2 in /usr/local/lib/python3.12/dist-packages (from torch) (12.5.4.2)\n",
      "Requirement already satisfied: nvidia-cusparselt-cu12==0.7.1 in /usr/local/lib/python3.12/dist-packages (from torch) (0.7.1)\n",
      "Requirement already satisfied: nvidia-nccl-cu12==2.27.3 in /usr/local/lib/python3.12/dist-packages (from torch) (2.27.3)\n",
      "Requirement already satisfied: nvidia-nvtx-cu12==12.6.77 in /usr/local/lib/python3.12/dist-packages (from torch) (12.6.77)\n",
      "Requirement already satisfied: nvidia-nvjitlink-cu12==12.6.85 in /usr/local/lib/python3.12/dist-packages (from torch) (12.6.85)\n",
      "Requirement already satisfied: nvidia-cufile-cu12==1.11.1.6 in /usr/local/lib/python3.12/dist-packages (from torch) (1.11.1.6)\n",
      "Requirement already satisfied: triton==3.4.0 in /usr/local/lib/python3.12/dist-packages (from torch) (3.4.0)\n",
      "Requirement already satisfied: hf-xet<2.0.0,>=1.1.3 in /usr/local/lib/python3.12/dist-packages (from huggingface-hub<1.0,>=0.34.0->transformers) (1.1.8)\n",
      "Requirement already satisfied: mpmath<1.4,>=1.1.0 in /usr/local/lib/python3.12/dist-packages (from sympy>=1.13.3->torch) (1.3.0)\n",
      "Requirement already satisfied: MarkupSafe>=2.0 in /usr/local/lib/python3.12/dist-packages (from jinja2->torch) (3.0.2)\n",
      "Requirement already satisfied: charset_normalizer<4,>=2 in /usr/local/lib/python3.12/dist-packages (from requests->transformers) (3.4.3)\n",
      "Requirement already satisfied: idna<4,>=2.5 in /usr/local/lib/python3.12/dist-packages (from requests->transformers) (3.10)\n",
      "Requirement already satisfied: urllib3<3,>=1.21.1 in /usr/local/lib/python3.12/dist-packages (from requests->transformers) (2.5.0)\n",
      "Requirement already satisfied: certifi>=2017.4.17 in /usr/local/lib/python3.12/dist-packages (from requests->transformers) (2025.8.3)\n"
     ]
    }
   ],
   "source": [
    "!pip install --break-system-packages transformers torch"
   ]
  },
  {
   "cell_type": "code",
   "execution_count": 2,
   "metadata": {
    "colab": {
     "base_uri": "https://localhost:8080/"
    },
    "collapsed": true,
    "executionInfo": {
     "elapsed": 16088,
     "status": "ok",
     "timestamp": 1756887646100,
     "user": {
      "displayName": "VBS Analytics",
      "userId": "12942825704271409009"
     },
     "user_tz": -330
    },
    "id": "zGoKw20fbZ2n",
    "outputId": "b564ea26-5bbb-441f-e370-933c4ee4d906"
   },
   "outputs": [
    {
     "name": "stdout",
     "output_type": "stream",
     "text": [
      "Collecting azure-cognitiveservices-speech\n",
      "  Downloading azure_cognitiveservices_speech-1.45.0-py3-none-manylinux1_x86_64.whl.metadata (1.6 kB)\n",
      "Collecting azure-core>=1.31.0 (from azure-cognitiveservices-speech)\n",
      "  Downloading azure_core-1.35.0-py3-none-any.whl.metadata (44 kB)\n",
      "\u001b[?25l     \u001b[90m━━━━━━━━━━━━━━━━━━━━━━━━━━━━━━━━━━━━━━━━\u001b[0m \u001b[32m0.0/44.4 kB\u001b[0m \u001b[31m?\u001b[0m eta \u001b[36m-:--:--\u001b[0m\r\u001b[2K     \u001b[90m━━━━━━━━━━━━━━━━━━━━━━━━━━━━━━━━━━━━━━━━\u001b[0m \u001b[32m44.4/44.4 kB\u001b[0m \u001b[31m3.7 MB/s\u001b[0m eta \u001b[36m0:00:00\u001b[0m\n",
      "\u001b[?25hRequirement already satisfied: requests>=2.21.0 in /usr/local/lib/python3.12/dist-packages (from azure-core>=1.31.0->azure-cognitiveservices-speech) (2.32.4)\n",
      "Requirement already satisfied: six>=1.11.0 in /usr/local/lib/python3.12/dist-packages (from azure-core>=1.31.0->azure-cognitiveservices-speech) (1.17.0)\n",
      "Requirement already satisfied: typing-extensions>=4.6.0 in /usr/local/lib/python3.12/dist-packages (from azure-core>=1.31.0->azure-cognitiveservices-speech) (4.15.0)\n",
      "Requirement already satisfied: charset_normalizer<4,>=2 in /usr/local/lib/python3.12/dist-packages (from requests>=2.21.0->azure-core>=1.31.0->azure-cognitiveservices-speech) (3.4.3)\n",
      "Requirement already satisfied: idna<4,>=2.5 in /usr/local/lib/python3.12/dist-packages (from requests>=2.21.0->azure-core>=1.31.0->azure-cognitiveservices-speech) (3.10)\n",
      "Requirement already satisfied: urllib3<3,>=1.21.1 in /usr/local/lib/python3.12/dist-packages (from requests>=2.21.0->azure-core>=1.31.0->azure-cognitiveservices-speech) (2.5.0)\n",
      "Requirement already satisfied: certifi>=2017.4.17 in /usr/local/lib/python3.12/dist-packages (from requests>=2.21.0->azure-core>=1.31.0->azure-cognitiveservices-speech) (2025.8.3)\n",
      "Downloading azure_cognitiveservices_speech-1.45.0-py3-none-manylinux1_x86_64.whl (41.9 MB)\n",
      "\u001b[2K   \u001b[90m━━━━━━━━━━━━━━━━━━━━━━━━━━━━━━━━━━━━━━━━\u001b[0m \u001b[32m41.9/41.9 MB\u001b[0m \u001b[31m18.9 MB/s\u001b[0m eta \u001b[36m0:00:00\u001b[0m\n",
      "\u001b[?25hDownloading azure_core-1.35.0-py3-none-any.whl (210 kB)\n",
      "\u001b[2K   \u001b[90m━━━━━━━━━━━━━━━━━━━━━━━━━━━━━━━━━━━━━━━━\u001b[0m \u001b[32m210.7/210.7 kB\u001b[0m \u001b[31m15.6 MB/s\u001b[0m eta \u001b[36m0:00:00\u001b[0m\n",
      "\u001b[?25hInstalling collected packages: azure-core, azure-cognitiveservices-speech\n",
      "Successfully installed azure-cognitiveservices-speech-1.45.0 azure-core-1.35.0\n"
     ]
    }
   ],
   "source": [
    "!pip install --break-system-packages azure-cognitiveservices-speech"
   ]
  },
  {
   "cell_type": "code",
   "execution_count": 3,
   "metadata": {
    "executionInfo": {
     "elapsed": 34175,
     "status": "ok",
     "timestamp": 1756887680247,
     "user": {
      "displayName": "VBS Analytics",
      "userId": "12942825704271409009"
     },
     "user_tz": -330
    },
    "id": "YW8wlu1_Zaf6"
   },
   "outputs": [],
   "source": [
    "import os\n",
    "import json\n",
    "import time\n",
    "import soundfile as sf\n",
    "import numpy as np\n",
    "import pandas as pd\n",
    "\n",
    "# Azure Speech SDK\n",
    "import azure.cognitiveservices.speech as speechsdk\n",
    "\n",
    "# Add for post-processing enhancement\n",
    "from transformers import pipeline\n",
    "import torch\n",
    "from transformers import AutoModelForSeq2SeqLM, AutoTokenizer, GenerationConfig"
   ]
  },
  {
   "cell_type": "code",
   "execution_count": null,
   "metadata": {
    "executionInfo": {
     "elapsed": 37,
     "status": "ok",
     "timestamp": 1756887680249,
     "user": {
      "displayName": "VBS Analytics",
      "userId": "12942825704271409009"
     },
     "user_tz": -330
    },
    "id": "5j6VvU9RZyBd"
   },
   "outputs": [],
   "source": [
    "# ---------- Configuration ----------\n",
    "# 👉 Put your Azure Speech credentials here 👈\n",
    "SPEECH_KEY = \"\"\n",
    "SPEECH_REGION = \"centralindia\"   # e.g., \"eastus\", \"southeastasia\", \"centralindia\"\n",
    "\n",
    "INPUT_FILE    = \"call2.wav\"\n",
    "\n",
    "SRC_LANGUAGE = \"ta-IN\"            # source audio language (Tamil – India)\n",
    "TARGET_LANGUAGE = \"en\"            # translate into English\n",
    "\n",
    "AGENT_LABEL = \"Agent\"\n",
    "CUSTOMER_LABEL = \"Customer\"\n",
    "\n",
    "# If your stereo channels are swapped, flip these\n",
    "LEFT_CHANNEL_SPEAKER = AGENT_LABEL\n",
    "RIGHT_CHANNEL_SPEAKER = CUSTOMER_LABEL\n",
    "# ---------- Configuration ----------"
   ]
  },
  {
   "cell_type": "code",
   "execution_count": 5,
   "metadata": {
    "executionInfo": {
     "elapsed": 46,
     "status": "ok",
     "timestamp": 1756887680262,
     "user": {
      "displayName": "VBS Analytics",
      "userId": "12942825704271409009"
     },
     "user_tz": -330
    },
    "id": "sPJSSiLjZ6X_"
   },
   "outputs": [],
   "source": [
    "def read_stereo_wav(path):\n",
    "    data, sr = sf.read(path, always_2d=True)\n",
    "    if data.shape[1] != 2:\n",
    "        raise ValueError(\"Input must be a *stereo* WAV (2 channels).\")\n",
    "    return data, sr\n",
    "\n",
    "def write_temp_mono_wav(np_float_mono, sr, path):\n",
    "    sf.write(path, np_float_mono, sr, subtype=\"PCM_16\")\n",
    "\n",
    "def run_translation_on_file(wav_path, speaker_label, src_lang, tgt_lang):\n",
    "    translation_config = speechsdk.translation.SpeechTranslationConfig(\n",
    "        subscription=SPEECH_KEY,\n",
    "        region=SPEECH_REGION,\n",
    "        speech_recognition_language=src_lang\n",
    "    )\n",
    "    translation_config.add_target_language(tgt_lang)\n",
    "\n",
    "    audio_config = speechsdk.AudioConfig(filename=wav_path)\n",
    "    translator = speechsdk.translation.TranslationRecognizer(\n",
    "        translation_config=translation_config,\n",
    "        audio_config=audio_config\n",
    "    )\n",
    "\n",
    "    segments = []\n",
    "    done = False\n",
    "\n",
    "    def recognized(evt):\n",
    "        res = evt.result\n",
    "        if res.reason == speechsdk.ResultReason.TranslatedSpeech:\n",
    "            start_sec = res.offset / 10_000_000.0\n",
    "            end_sec   = (res.offset + res.duration) / 10_000_000.0\n",
    "            text_src  = res.text or \"\"\n",
    "            text_en   = (res.translations.get(tgt_lang) or \"\").strip()\n",
    "            if text_en:\n",
    "                segments.append({\n",
    "                    \"speaker\": speaker_label,\n",
    "                    \"start_sec\": float(start_sec),\n",
    "                    \"end_sec\": float(end_sec),\n",
    "                    \"text_src\": text_src,\n",
    "                    \"text_en\": text_en\n",
    "                })\n",
    "\n",
    "    def canceled(evt):\n",
    "        if evt.reason == speechsdk.CancellationReason.Error:\n",
    "            print(\"CANCELED due to error:\", evt.error_details)\n",
    "\n",
    "    def session_stopped(evt):\n",
    "        nonlocal done\n",
    "        done = True\n",
    "\n",
    "    translator.recognized.connect(recognized)\n",
    "    translator.canceled.connect(canceled)\n",
    "    translator.session_stopped.connect(session_stopped)\n",
    "\n",
    "    translator.start_continuous_recognition_async().get()\n",
    "    while not done:\n",
    "        time.sleep(0.1)\n",
    "    translator.stop_continuous_recognition_async().get()\n",
    "    return segments\n",
    "\n",
    "def merge_and_format(agent_segments, customer_segments):\n",
    "    all_segments = agent_segments + customer_segments\n",
    "    all_segments.sort(key=lambda s: (s[\"start_sec\"], s[\"speaker\"]))\n",
    "    full_transcript_en = \" \".join(s[\"text_en\"] for s in all_segments).strip()\n",
    "\n",
    "    dialog_lines = []\n",
    "    for s in all_segments:\n",
    "        t0 = s[\"start_sec\"]\n",
    "        mm, ss = divmod(int(t0), 60)\n",
    "        timestamp = f\"{mm:02d}:{ss:02d}\"\n",
    "        dialog_lines.append(f\"[{timestamp}] {s['speaker']}: {s['text_en']}\")\n",
    "    return full_transcript_en, dialog_lines, all_segments"
   ]
  },
  {
   "cell_type": "code",
   "execution_count": 7,
   "metadata": {
    "colab": {
     "base_uri": "https://localhost:8080/"
    },
    "executionInfo": {
     "elapsed": 183106,
     "status": "ok",
     "timestamp": 1756888027691,
     "user": {
      "displayName": "VBS Analytics",
      "userId": "12942825704271409009"
     },
     "user_tz": -330
    },
    "id": "KgUDS6yiaz9D",
    "outputId": "e1a2d3be-2e2d-43b9-abaf-d5460774af94"
   },
   "outputs": [
    {
     "name": "stdout",
     "output_type": "stream",
     "text": [
      "Reading: call2.wav\n",
      "Transcribing LEFT channel as Agent\n",
      "Transcribing RIGHT channel as Customer\n"
     ]
    }
   ],
   "source": [
    "# ===================== RUN =====================\n",
    "if not os.path.exists(INPUT_FILE):\n",
    "    raise FileNotFoundError(f\"File not found: {INPUT_FILE}\")\n",
    "\n",
    "print(\"Reading:\", INPUT_FILE)\n",
    "stereo, sr = read_stereo_wav(INPUT_FILE)\n",
    "left, right = stereo[:,0], stereo[:,1]\n",
    "\n",
    "left_path, right_path = \"tmp_left.wav\", \"tmp_right.wav\"\n",
    "write_temp_mono_wav(left.astype(np.float32),  sr, left_path)\n",
    "write_temp_mono_wav(right.astype(np.float32), sr, right_path)\n",
    "\n",
    "print(\"Transcribing LEFT channel as\", LEFT_CHANNEL_SPEAKER)\n",
    "left_segments  = run_translation_on_file(left_path,  LEFT_CHANNEL_SPEAKER,  SRC_LANGUAGE, TARGET_LANGUAGE)\n",
    "print(\"Transcribing RIGHT channel as\", RIGHT_CHANNEL_SPEAKER)\n",
    "right_segments = run_translation_on_file(right_path, RIGHT_CHANNEL_SPEAKER, SRC_LANGUAGE, TARGET_LANGUAGE)\n",
    "\n",
    "full_en, dialog_lines, all_segments = merge_and_format(left_segments, right_segments)"
   ]
  },
  {
   "cell_type": "code",
   "execution_count": 19,
   "metadata": {
    "colab": {
     "base_uri": "https://localhost:8080/"
    },
    "collapsed": true,
    "executionInfo": {
     "elapsed": 11542,
     "status": "ok",
     "timestamp": 1756890808381,
     "user": {
      "displayName": "VBS Analytics",
      "userId": "12942825704271409009"
     },
     "user_tz": -330
    },
    "id": "cOKhYqM2e61U",
    "outputId": "4bf684bc-df5e-4ad7-f849-9cb5a722dbdc"
   },
   "outputs": [
    {
     "data": {
      "text/plain": [
       "T5ForConditionalGeneration(\n",
       "  (shared): Embedding(32128, 1024)\n",
       "  (encoder): T5Stack(\n",
       "    (embed_tokens): Embedding(32128, 1024)\n",
       "    (block): ModuleList(\n",
       "      (0): T5Block(\n",
       "        (layer): ModuleList(\n",
       "          (0): T5LayerSelfAttention(\n",
       "            (SelfAttention): T5Attention(\n",
       "              (q): Linear(in_features=1024, out_features=1024, bias=False)\n",
       "              (k): Linear(in_features=1024, out_features=1024, bias=False)\n",
       "              (v): Linear(in_features=1024, out_features=1024, bias=False)\n",
       "              (o): Linear(in_features=1024, out_features=1024, bias=False)\n",
       "              (relative_attention_bias): Embedding(32, 16)\n",
       "            )\n",
       "            (layer_norm): T5LayerNorm()\n",
       "            (dropout): Dropout(p=0.1, inplace=False)\n",
       "          )\n",
       "          (1): T5LayerFF(\n",
       "            (DenseReluDense): T5DenseGatedActDense(\n",
       "              (wi_0): Linear(in_features=1024, out_features=2816, bias=False)\n",
       "              (wi_1): Linear(in_features=1024, out_features=2816, bias=False)\n",
       "              (wo): Linear(in_features=2816, out_features=1024, bias=False)\n",
       "              (dropout): Dropout(p=0.1, inplace=False)\n",
       "              (act): NewGELUActivation()\n",
       "            )\n",
       "            (layer_norm): T5LayerNorm()\n",
       "            (dropout): Dropout(p=0.1, inplace=False)\n",
       "          )\n",
       "        )\n",
       "      )\n",
       "      (1-23): 23 x T5Block(\n",
       "        (layer): ModuleList(\n",
       "          (0): T5LayerSelfAttention(\n",
       "            (SelfAttention): T5Attention(\n",
       "              (q): Linear(in_features=1024, out_features=1024, bias=False)\n",
       "              (k): Linear(in_features=1024, out_features=1024, bias=False)\n",
       "              (v): Linear(in_features=1024, out_features=1024, bias=False)\n",
       "              (o): Linear(in_features=1024, out_features=1024, bias=False)\n",
       "            )\n",
       "            (layer_norm): T5LayerNorm()\n",
       "            (dropout): Dropout(p=0.1, inplace=False)\n",
       "          )\n",
       "          (1): T5LayerFF(\n",
       "            (DenseReluDense): T5DenseGatedActDense(\n",
       "              (wi_0): Linear(in_features=1024, out_features=2816, bias=False)\n",
       "              (wi_1): Linear(in_features=1024, out_features=2816, bias=False)\n",
       "              (wo): Linear(in_features=2816, out_features=1024, bias=False)\n",
       "              (dropout): Dropout(p=0.1, inplace=False)\n",
       "              (act): NewGELUActivation()\n",
       "            )\n",
       "            (layer_norm): T5LayerNorm()\n",
       "            (dropout): Dropout(p=0.1, inplace=False)\n",
       "          )\n",
       "        )\n",
       "      )\n",
       "    )\n",
       "    (final_layer_norm): T5LayerNorm()\n",
       "    (dropout): Dropout(p=0.1, inplace=False)\n",
       "  )\n",
       "  (decoder): T5Stack(\n",
       "    (embed_tokens): Embedding(32128, 1024)\n",
       "    (block): ModuleList(\n",
       "      (0): T5Block(\n",
       "        (layer): ModuleList(\n",
       "          (0): T5LayerSelfAttention(\n",
       "            (SelfAttention): T5Attention(\n",
       "              (q): Linear(in_features=1024, out_features=1024, bias=False)\n",
       "              (k): Linear(in_features=1024, out_features=1024, bias=False)\n",
       "              (v): Linear(in_features=1024, out_features=1024, bias=False)\n",
       "              (o): Linear(in_features=1024, out_features=1024, bias=False)\n",
       "              (relative_attention_bias): Embedding(32, 16)\n",
       "            )\n",
       "            (layer_norm): T5LayerNorm()\n",
       "            (dropout): Dropout(p=0.1, inplace=False)\n",
       "          )\n",
       "          (1): T5LayerCrossAttention(\n",
       "            (EncDecAttention): T5Attention(\n",
       "              (q): Linear(in_features=1024, out_features=1024, bias=False)\n",
       "              (k): Linear(in_features=1024, out_features=1024, bias=False)\n",
       "              (v): Linear(in_features=1024, out_features=1024, bias=False)\n",
       "              (o): Linear(in_features=1024, out_features=1024, bias=False)\n",
       "            )\n",
       "            (layer_norm): T5LayerNorm()\n",
       "            (dropout): Dropout(p=0.1, inplace=False)\n",
       "          )\n",
       "          (2): T5LayerFF(\n",
       "            (DenseReluDense): T5DenseGatedActDense(\n",
       "              (wi_0): Linear(in_features=1024, out_features=2816, bias=False)\n",
       "              (wi_1): Linear(in_features=1024, out_features=2816, bias=False)\n",
       "              (wo): Linear(in_features=2816, out_features=1024, bias=False)\n",
       "              (dropout): Dropout(p=0.1, inplace=False)\n",
       "              (act): NewGELUActivation()\n",
       "            )\n",
       "            (layer_norm): T5LayerNorm()\n",
       "            (dropout): Dropout(p=0.1, inplace=False)\n",
       "          )\n",
       "        )\n",
       "      )\n",
       "      (1-23): 23 x T5Block(\n",
       "        (layer): ModuleList(\n",
       "          (0): T5LayerSelfAttention(\n",
       "            (SelfAttention): T5Attention(\n",
       "              (q): Linear(in_features=1024, out_features=1024, bias=False)\n",
       "              (k): Linear(in_features=1024, out_features=1024, bias=False)\n",
       "              (v): Linear(in_features=1024, out_features=1024, bias=False)\n",
       "              (o): Linear(in_features=1024, out_features=1024, bias=False)\n",
       "            )\n",
       "            (layer_norm): T5LayerNorm()\n",
       "            (dropout): Dropout(p=0.1, inplace=False)\n",
       "          )\n",
       "          (1): T5LayerCrossAttention(\n",
       "            (EncDecAttention): T5Attention(\n",
       "              (q): Linear(in_features=1024, out_features=1024, bias=False)\n",
       "              (k): Linear(in_features=1024, out_features=1024, bias=False)\n",
       "              (v): Linear(in_features=1024, out_features=1024, bias=False)\n",
       "              (o): Linear(in_features=1024, out_features=1024, bias=False)\n",
       "            )\n",
       "            (layer_norm): T5LayerNorm()\n",
       "            (dropout): Dropout(p=0.1, inplace=False)\n",
       "          )\n",
       "          (2): T5LayerFF(\n",
       "            (DenseReluDense): T5DenseGatedActDense(\n",
       "              (wi_0): Linear(in_features=1024, out_features=2816, bias=False)\n",
       "              (wi_1): Linear(in_features=1024, out_features=2816, bias=False)\n",
       "              (wo): Linear(in_features=2816, out_features=1024, bias=False)\n",
       "              (dropout): Dropout(p=0.1, inplace=False)\n",
       "              (act): NewGELUActivation()\n",
       "            )\n",
       "            (layer_norm): T5LayerNorm()\n",
       "            (dropout): Dropout(p=0.1, inplace=False)\n",
       "          )\n",
       "        )\n",
       "      )\n",
       "    )\n",
       "    (final_layer_norm): T5LayerNorm()\n",
       "    (dropout): Dropout(p=0.1, inplace=False)\n",
       "  )\n",
       "  (lm_head): Linear(in_features=1024, out_features=32128, bias=False)\n",
       ")"
      ]
     },
     "execution_count": 19,
     "metadata": {},
     "output_type": "execute_result"
    }
   ],
   "source": [
    "model_name = \"google/flan-t5-large\"\n",
    "tokenizer = AutoTokenizer.from_pretrained(model_name)\n",
    "model = AutoModelForSeq2SeqLM.from_pretrained(model_name)\n",
    "device = \"cpu\" if not torch.cuda.is_available() else 0  # Use \"cpu\" for no GPU, 0 for first GPU\n",
    "model.to(device)"
   ]
  },
  {
   "cell_type": "code",
   "execution_count": 20,
   "metadata": {
    "executionInfo": {
     "elapsed": 4,
     "status": "ok",
     "timestamp": 1756890808445,
     "user": {
      "displayName": "VBS Analytics",
      "userId": "12942825704271409009"
     },
     "user_tz": -330
    },
    "id": "eyo5Jzree9Iw"
   },
   "outputs": [],
   "source": [
    "# Set generation config to use max_length only\n",
    "generation_config = GenerationConfig(max_length=512, num_beams=1, do_sample=False, decoder_start_token_id=tokenizer.pad_token_id)\n",
    "model.generation_config = generation_config  # Assign the generation config to the model"
   ]
  },
  {
   "cell_type": "code",
   "execution_count": 21,
   "metadata": {
    "colab": {
     "base_uri": "https://localhost:8080/"
    },
    "executionInfo": {
     "elapsed": 10,
     "status": "ok",
     "timestamp": 1756890808459,
     "user": {
      "displayName": "VBS Analytics",
      "userId": "12942825704271409009"
     },
     "user_tz": -330
    },
    "id": "5h2jqJEdb4Hf",
    "outputId": "f4ed2d83-5b5c-4e5e-9257-56698a83a855"
   },
   "outputs": [
    {
     "name": "stderr",
     "output_type": "stream",
     "text": [
      "Device set to use cuda:0\n"
     ]
    }
   ],
   "source": [
    "# Create pipeline without passing generation_config directly\n",
    "corrector = pipeline(\"text2text-generation\", model=model, tokenizer=tokenizer, device=device)"
   ]
  },
  {
   "cell_type": "code",
   "execution_count": 22,
   "metadata": {
    "executionInfo": {
     "elapsed": 21,
     "status": "ok",
     "timestamp": 1756890808483,
     "user": {
      "displayName": "VBS Analytics",
      "userId": "12942825704271409009"
     },
     "user_tz": -330
    },
    "id": "Sfua36E60GXv"
   },
   "outputs": [],
   "source": [
    "# Prepare prompts for batch processing with truncation\n",
    "prompt_prefix = \"Correct this speech: \"\n",
    "max_input_length = 400  # Leave room for generation (512 - max generation length)\n",
    "prompts = [\n",
    "    prompt_prefix + tokenizer.decode(\n",
    "        tokenizer.encode(s['text_en'], max_length=max_input_length, truncation=True)[0],\n",
    "        skip_special_tokens=True\n",
    "    )\n",
    "    for s in all_segments\n",
    "]"
   ]
  },
  {
   "cell_type": "code",
   "execution_count": 23,
   "metadata": {
    "executionInfo": {
     "elapsed": 157199,
     "status": "ok",
     "timestamp": 1756890965677,
     "user": {
      "displayName": "VBS Analytics",
      "userId": "12942825704271409009"
     },
     "user_tz": -330
    },
    "id": "BLLPlsCH0JiP"
   },
   "outputs": [],
   "source": [
    "# Batch processing with the pipeline (reduced batch_size)\n",
    "corrected_texts = corrector(prompts, num_return_sequences=1, batch_size=8)  # Reduced from 32 to 8"
   ]
  },
  {
   "cell_type": "code",
   "execution_count": 24,
   "metadata": {
    "executionInfo": {
     "elapsed": 5,
     "status": "ok",
     "timestamp": 1756890981208,
     "user": {
      "displayName": "VBS Analytics",
      "userId": "12942825704271409009"
     },
     "user_tz": -330
    },
    "id": "PrKeR36D3Nys"
   },
   "outputs": [],
   "source": [
    "# Rebuild full_en and dialog_lines with corrected text\n",
    "full_en = \" \".join(s[\"text_en\"] for s in all_segments).strip()"
   ]
  },
  {
   "cell_type": "code",
   "execution_count": 25,
   "metadata": {
    "executionInfo": {
     "elapsed": 16,
     "status": "ok",
     "timestamp": 1756890987690,
     "user": {
      "displayName": "VBS Analytics",
      "userId": "12942825704271409009"
     },
     "user_tz": -330
    },
    "id": "KY6081_e3PcP"
   },
   "outputs": [],
   "source": [
    "dialog_lines = []\n",
    "for s in all_segments:\n",
    "    t0 = s[\"start_sec\"]\n",
    "    mm, ss = divmod(int(t0), 60)\n",
    "    timestamp = f\"{mm:02d}:{ss:02d}\"\n",
    "    dialog_lines.append(f\"[{timestamp}] {s['speaker']}: {s['text_en']}\")\n",
    "# ----- End of enhancement -----"
   ]
  },
  {
   "cell_type": "code",
   "execution_count": 26,
   "metadata": {
    "colab": {
     "base_uri": "https://localhost:8080/"
    },
    "executionInfo": {
     "elapsed": 25,
     "status": "ok",
     "timestamp": 1756890996065,
     "user": {
      "displayName": "VBS Analytics",
      "userId": "12942825704271409009"
     },
     "user_tz": -330
    },
    "id": "ck9O4u5m3PwI",
    "outputId": "73aa1d88-eec8-4872-8aa3-840189204931"
   },
   "outputs": [
    {
     "data": {
      "text/plain": [
       "['[00:01] Customer: Hello..................................................... side. side. side. side. side. side. side. side. side. side. side. side. side. side. side. side. side. side. side. side. side. side. side. side. side. side. side. side. side. side. side. side. side. side. side. side. side. side. side. side. side. side. side. side. side. side. side. side. side. side. side. side. side. side. side. side. side. side. side. side. side. side. side. side. side. side. side. side. side. side. side. side. side. side. side. side. side. side. side. side. side. side. side. side. side. side. side. side. side. side. side. side. side. side. side. side. side. side. side. side. side. side. side. side. side. side. side. side. side. side. side. side. side. side. side. side. side. side. side. side. side. side. side. side. side. side. side. side. side. side. side. side. side. side. side. side. side. side. side. side. side. side. side. side. side. side. side. side. side. side. side. side. side. side. side. side. side. side. side. side. side. side. side. side. side. side. side. side. side. side. side. side. side. side. side. side. side. side. side. side. side. side. side. side. side. side. side. side. side. side. side. side. side. side. side. side. side. side. side. side. side. side. side',\n",
       " '[00:02] Agent: Hello my name is Swathi we are calling from life insurance. This is a renewal call access monthly insurance policy. Can you talk for 2 minutes???????????????????????????????????????????????????????????????????????????????????????????????????????????????????????????????????????????????????????????????????????...?...?...?...?...?...?...?...?...?...?...?...?...?...?...?...?...?...?...?...?...?...?...?...?...?...?...?...?...?...?...?...?...?...?...?...?...?...?...?...?...?...?...?...?...?...?...?...?...?...',\n",
       " \"[00:11] Customer: Can you cancel the policy if you can't pay the evening? Amount.............................................. way. way. way. way. way. way. way. way. way. way. way. way. way. way. way. way. way. way. way. way. way. way. way. way. way. way. way. way. way. way. way. way. way. way. way. way. way. way. way. way. way. way. way. way. way. way. way. way. way. way. way. way. way. way. way. way. way. way. way. way. way. way. way. way. way. way. way. way. way. way. way. way. way. way. way. way. way. way. way. way. way. way. way. way. way. way. way. way. way. way. way. way. way. way. way. way. way. way. way. way. way. way. way. way. way. way. way. way. way. way. way. way. way. way. way. way. way. way. way. way. way. way. way. way. way. way. way. way. way. way. way. way. way. way. way. way. way. way. way. way. way. way. way. way. way. way. way. way. way. way. way. way. way. way. way. way. way. way. way. way. way. way. way. way. way. way. way. way. way. way. way. way. way. way. way. way. way. way. way. way. way. way. way. way. way. way. way. way. way. way. way. way. way. way. way. way. way. way. way. way. way. way\",\n",
       " \"[00:18] Agent: Ok, I have set the details of your policy in a third second line. I'm going to inform................................................................................................................................................................................. property. property. property. property. property. property. property. property. property. property. property. property. property. property. property. property. property. property. property. property. property. property. property. property. property. property. property. property. property. property. property. property. property. property. property. property. property. property. property. property. property. property. property. property. property. property. property. property. property. property. property. property. property. property. property. property. property. property. property. property. property. property. property. property. property. property. property. property\",\n",
       " \"[00:27] Agent: Ok Hemalatha ma'am you talking ma'am.......................................... secretary. secretary. secretary. secretary. secretary. secretary. secretary. secretary. secretary. secretary. secretary. secretary. secretary. secretary. secretary. secretary. secretary. secretary. secretary. secretary. secretary. secretary. secretary. secretary. secretary. secretary. secretary. secretary. secretary. secretary. secretary. secretary. secretary. secretary. secretary. secretary. secretary. secretary. secretary. secretary. secretary. secretary. secretary. secretary. secretary. secretary. secretary. secretary. secretary. secretary. secretary. secretary. secretary. secretary. secretary. secretary. secretary. secretary. secretary. secretary. secretary. secretary. secretary. secretary. secretary. secretary. secretary. secretary. secretary. secretary. secretary. secretary. secretary. secretary. secretary. secretary. secretary. secretary. secretary. secretary. secretary. secretary. secretary. secretary. secretary. secretary. secretary. secretary. secretary. secretary. secretary. secretary. secretary. secretary. secretary. secretary. secretary. secretary. secretary. secretary. secretary. secretary. secretary. secretary. secretary. secretary. secretary. secretary. secretary. secretary. secretary. secretary. secretary. secretary. secretary. secretary. secretary. secretary. secretary. secretary. secretary. secretary. secretary. secretary. secretary. secretary. secretary. secretary. secretary. secretary. secretary. secretary. secretary. secretary. secretary. secretary. secretary. secretary. secretary. secretary. secretary. secretary. secretary. secretary. secretary. secretary. secretary. secretary. secretary. secretary. secretary. secretary. secretary. secretary. secretary. secretary. secretary. secretary. secretary. secretary. secretary. secretary. secretary. secretary. secretary. secretary. secretary. secretary. secretary. secretary. secretary. secretary. secretary. secretary. secretary. secretary. secretary. secretary. secretary. secretary. secretary. secretary. secretary. secretary. secretary. secretary. secretary. secretary. secretary. secretary. secretary. secretary. secretary. secretary. secretary. secretary. secretary. secretary. secretary. secretary. secretary. secretary. secretary. secretary. secretary. secretary. secretary.\",\n",
       " '[00:29] Customer: Hello..................................................... side. side. side. side. side. side. side. side. side. side. side. side. side. side. side. side. side. side. side. side. side. side. side. side. side. side. side. side. side. side. side. side. side. side. side. side. side. side. side. side. side. side. side. side. side. side. side. side. side. side. side. side. side. side. side. side. side. side. side. side. side. side. side. side. side. side. side. side. side. side. side. side. side. side. side. side. side. side. side. side. side. side. side. side. side. side. side. side. side. side. side. side. side. side. side. side. side. side. side. side. side. side. side. side. side. side. side. side. side. side. side. side. side. side. side. side. side. side. side. side. side. side. side. side. side. side. side. side. side. side. side. side. side. side. side. side. side. side. side. side. side. side. side. side. side. side. side. side. side. side. side. side. side. side. side. side. side. side. side. side. side. side. side. side. side. side. side. side. side. side. side. side. side. side. side. side. side. side. side. side. side. side. side. side. side. side. side. side. side. side. side. side. side. side. side. side. side. side. side. side. side. side. side',\n",
       " \"[00:30] Agent: Okay. Do you want to know what the reactor didn't do?: Okay. Do you want to know what the reactor didn't do?: Okay. Do you want to know what the reactor didn't do?: Okay. Do you want to know what the reactor didn't do?: Okay. Do you want to know what the reactor didn't do?: Okay. Do you want to know what the reactor didn't do?: Okay. Do you want to know what the reactor didn't do?: Okay. Do you want to know what the reactor didn't do?: Okay. Do you want to know what the reactor didn't do?: Okay. Do you want to know what the reactor didn't do?: Okay. Do you want to know what the reactor didn't do?: Okay. Do you want to know what the reactor didn't do?: Okay. Do you want to know what the reactor didn't do?: Okay. Do you want to know what the reactor didn't do?: Okay. Do you want to know what the reactor didn't do?: Okay. Do you want to know what the reactor didn't do?: Okay. Do you want to know what the reactor didn't do?: Okay. Do you want to know what the reactor didn't do?: Okay. Do you want to know what the reactor didn't do?: Okay. Do you want to know what the reactor didn't do?: Okay. Do you want to know what the reactor didn't do?: Okay. Do you want to know what the reactor didn't do?: Okay. Do you want to know what the reactor didn't do?: Okay. Do you want to know what the reactor didn't do?: Okay. Do you want to know what the reactor didn't do?: Okay. Do you want to know what the reactor didn't do?: Okay. Do you want to know what the reactor didn't do?: Okay. Do you want to know what the reactor didn't do?: Okay. Do you want to know what the reactor didn't do?: Okay. Do you want to know what the reactor didn't do?: Okay\",\n",
       " \"[00:33] Customer: I don't have a job. Tell me the situation that should be in your house............................................ house. house. house. house. house. house. house. house. house. house. house. house. house. house. house. house. house. house. house. house. house. house. house. house. house. house. house. house. house. house. house. house. house. house. house. house. house. house. house. house. house. house. house. house. house. house. house. house. house. house. house. house. house. house. house. house. house. house. house. house. house. house. house. house. house. house. house. house. house. house. house. house. house. house. house. house. house. house. house. house. house. house. house. house. house. house. house. house. house. house. house. house. house. house. house. house. house. house. house. house. house. house. house. house. house. house. house. house. house. house. house. house. house. house. house. house. house. house. house. house. house. house. house. house. house. house. house. house. house. house. house. house. house. house. house. house. house. house. house. house. house. house. house. house. house. house. house. house. house. house. house. house. house. house. house. house. house. house. house. house. house. house. house. house. house. house. house. house. house. house. house. house. house. house. house. house. house. house. house. house. house. house. house. house. house. house. house. house. house. house. house. house. house. house. house. house. house. house. house. house. house. house. house\",\n",
       " '[00:36] Agent: Okay............. pitch. pitch. pitch. pitch. pitch. pitch. pitch. pitch. pitch. pitch. pitch. pitch. pitch. pitch. pitch. pitch. pitch. pitch. pitch. pitch. pitch. pitch. pitch. pitch. pitch. pitch. pitch. pitch. pitch. pitch. pitch. pitch. pitch. pitch. pitch. pitch. pitch. pitch. pitch. pitch. pitch. pitch. pitch. pitch. pitch. pitch. pitch. pitch. pitch. pitch. pitch. pitch. pitch. pitch. pitch. pitch. pitch. pitch. pitch. pitch. pitch. pitch. pitch. pitch. pitch. pitch. pitch. pitch. pitch. pitch. pitch. pitch. pitch. pitch. pitch. pitch. pitch. pitch. pitch. pitch. pitch. pitch. pitch. pitch. pitch. pitch. pitch. pitch. pitch. pitch. pitch. pitch. pitch. pitch. pitch. pitch. pitch. pitch. pitch. pitch. pitch. pitch. pitch. pitch. pitch. pitch. pitch. pitch. pitch. pitch. pitch. pitch. pitch. pitch. pitch. pitch. pitch. pitch. pitch. pitch. pitch. pitch. pitch. pitch. pitch. pitch. pitch. pitch. pitch. pitch. pitch. pitch. pitch. pitch. pitch. pitch. pitch. pitch. pitch. pitch. pitch. pitch. pitch. pitch. pitch. pitch. pitch. pitch. pitch. pitch. pitch. pitch. pitch. pitch. pitch. pitch. pitch. pitch. pitch. pitch. pitch. pitch. pitch. pitch. pitch. pitch. pitch. pitch. pitch. pitch. pitch. pitch. pitch. pitch. pitch. pitch. pitch. pitch. pitch. pitch. pitch. pitch. pitch. pitch. pitch. pitch. pitch. pitch. pitch. pitch. pitch. pitch. pitch. pitch. pitch. pitch. pitch. pitch. pitch. pitch. pitch. pitch. pitch. pitch. pitch. pitch. pitch. pitch. pitch. pitch. pitch. pitch. pitch. pitch. pitch. pitch. pitch. pitch. pitch. pitch. pitch. pitch. pitch. pitch. pitch. pitch. pitch. pitch. pitch. pitch. pitch. pitch. pitch. pitch. pitch. pitch. pitch. pitch. pitch. pitch. pitch. pitch. pitch',\n",
       " '[00:37] Agent: Okay............. pitch. pitch. pitch. pitch. pitch. pitch. pitch. pitch. pitch. pitch. pitch. pitch. pitch. pitch. pitch. pitch. pitch. pitch. pitch. pitch. pitch. pitch. pitch. pitch. pitch. pitch. pitch. pitch. pitch. pitch. pitch. pitch. pitch. pitch. pitch. pitch. pitch. pitch. pitch. pitch. pitch. pitch. pitch. pitch. pitch. pitch. pitch. pitch. pitch. pitch. pitch. pitch. pitch. pitch. pitch. pitch. pitch. pitch. pitch. pitch. pitch. pitch. pitch. pitch. pitch. pitch. pitch. pitch. pitch. pitch. pitch. pitch. pitch. pitch. pitch. pitch. pitch. pitch. pitch. pitch. pitch. pitch. pitch. pitch. pitch. pitch. pitch. pitch. pitch. pitch. pitch. pitch. pitch. pitch. pitch. pitch. pitch. pitch. pitch. pitch. pitch. pitch. pitch. pitch. pitch. pitch. pitch. pitch. pitch. pitch. pitch. pitch. pitch. pitch. pitch. pitch. pitch. pitch. pitch. pitch. pitch. pitch. pitch. pitch. pitch. pitch. pitch. pitch. pitch. pitch. pitch. pitch. pitch. pitch. pitch. pitch. pitch. pitch. pitch. pitch. pitch. pitch. pitch. pitch. pitch. pitch. pitch. pitch. pitch. pitch. pitch. pitch. pitch. pitch. pitch. pitch. pitch. pitch. pitch. pitch. pitch. pitch. pitch. pitch. pitch. pitch. pitch. pitch. pitch. pitch. pitch. pitch. pitch. pitch. pitch. pitch. pitch. pitch. pitch. pitch. pitch. pitch. pitch. pitch. pitch. pitch. pitch. pitch. pitch. pitch. pitch. pitch. pitch. pitch. pitch. pitch. pitch. pitch. pitch. pitch. pitch. pitch. pitch. pitch. pitch. pitch. pitch. pitch. pitch. pitch. pitch. pitch. pitch. pitch. pitch. pitch. pitch. pitch. pitch. pitch. pitch. pitch. pitch. pitch. pitch. pitch. pitch. pitch. pitch. pitch. pitch. pitch. pitch. pitch. pitch. pitch. pitch. pitch. pitch. pitch. pitch. pitch. pitch',\n",
       " '[00:39] Agent: Okay, I understand the situation, Bhatt, you have already paid for a year. So there will be no items when you make the first payment. Because you have to pay at least 13 years to get the catch generated. So if you are paying for 13 years, then the certificate will be given to you and give it to you.......................................................... cause. cause. cause. cause. cause. cause. cause. cause. cause. cause. cause. cause. cause. cause. cause. cause. cause. cause. cause. cause. cause. cause. cause. cause. cause. cause. cause. cause. cause. cause. cause. cause. cause. cause. cause. cause. cause. cause. cause. cause. cause. cause. cause. cause. cause. cause. cause. cause. cause. cause. cause. cause. cause. cause. cause. cause. cause. cause. cause. cause. cause. cause. cause. cause. cause. cause. cause. cause. cause. cause. cause. cause. cause. cause. cause. cause. cause. cause. cause. cause. cause. cause. cause. cause. cause. cause. cause. cause. cause. cause. cause. cause. cause. cause. cause. cause. cause. cause. cause. cause. cause. cause. cause. cause. cause. cause. cause. cause. cause. cause. cause. cause. cause. cause. cause. cause. cause. cause. cause. cause. cause. cause. cause. cause. cause. cause. cause. cause. cause. cause. cause. cause. cause. cause. cause. cause. cause. cause. cause. cause. cause. cause. cause. cause. cause. cause. cause. cause. cause. cause. cause. cause. cause. cause. cause. cause. cause. cause. cause. cause. cause. cause. cause',\n",
       " \"[00:57] Agent: There is no matter when the **** makes the first year payment and surrenders. No, I don't.................................................................................. island. island. island. island. island. island. island. island. island. island. island. island. island. island. island. island. island. island. island. island. island. island. island. island. island. island. island. island. island. island. island. island. island. island. island. island. island. island. island. island. island. island. island. island. island. island. island. island. island. island. island. island. island. island. island. island. island. island. island. island. island. island. island. island. island. island. island. island. island. island. island. island. island. island. island. island. island. island. island. island. island. island. island. island. island. island. island. island. island. island. island. island. island. island. island. island. island. island. island. island. island. island. island. island. island. island. island. island. island. island. island. island. island. island. island. island. island. island. island. island. island. island. island. island. island. island. island. island. island. island. island. island. island. island. island. island. island. island. island. island. island. island. island. island. island. island. island. island. island. island. island. island. island. island. island. island. island. island. island. island. island. island. island\",\n",
       " \"[01:01] Agent: Let's just take some time to do it.: Let's just take some time to do it.: Let's just take some time to do it.: Let's just take some time to do it.: Let's just take some time to do it.: Let's just take some time to do it.: Let's just take some time to do it.: Let's just take some time to do it.: Let's just take some time to do it.: Let's just take some time to do it.: Let's just take some time to do it.: Let's just take some time to do it.: Let's just take some time to do it.: Let's just take some time to do it.: Let's just take some time to do it.: Let's just take some time to do it.: Let's just take some time to do it.: Let's just take some time to do it.: Let's just take some time to do it.: Let's just take some time to do it.: Let's just take some time to do it.: Let's just take some time to do it.: Let's just take some time to do it.: Let's just take some time to do it.: Let's just take some time to do it.: Let's just take some time to do it.: Let's just take some time to do it.: Let's just take some time to do it.: Let's just take some time to do it.: Let's just take some time to do it.: Let's just take some time to do it.: Let's just take some time to do it.: Let's just take some time to do it.: Let's just take some time to do it.: Let's just take some time to do it.: Let's just take some time to do it.: Let's just take some time to do it.: Let's just take some time to do it.: Let's just take some time to do it.: Let's just\",\n",
       " '[01:05] Customer: If you do this now, how much will you come to Friend?.................. sister. sister. sister. sister. sister. sister. sister. sister. sister. sister. sister. sister. sister. sister. sister. sister. sister. sister. sister. sister. sister. sister. sister. sister. sister. sister. sister. sister. sister. sister. sister. sister. sister. sister. sister. sister. sister. sister. sister. sister. sister. sister. sister. sister. sister. sister. sister. sister. sister. sister. sister. sister. sister. sister. sister. sister. sister. sister. sister. sister. sister. sister. sister. sister. sister. sister. sister. sister. sister. sister. sister. sister. sister. sister. sister. sister. sister. sister. sister. sister. sister. sister. sister. sister. sister. sister. sister. sister. sister. sister. sister. sister. sister. sister. sister. sister. sister. sister. sister. sister. sister. sister. sister. sister. sister. sister. sister. sister. sister. sister. sister. sister. sister. sister. sister. sister. sister. sister. sister. sister. sister. sister. sister. sister. sister. sister. sister. sister. sister. sister. sister. sister. sister. sister. sister. sister. sister. sister. sister. sister. sister. sister. sister. sister. sister. sister. sister. sister. sister. sister. sister. sister. sister. sister. sister. sister. sister. sister. sister. sister. sister. sister. sister. sister. sister. sister. sister. sister. sister. sister. sister. sister. sister. sister. sister. sister. sister. sister. sister. sister. sister. sister. sister. sister. sister. sister. sister. sister. sister. sister. sister. sister. sister. sister. sister. sister. sister. sister. sister. sister. sister. sister. sister. sister. sister. sister. sister. sister. sister. sister. sister. sister. sister. sister. sister. sister. sister. sister. sister. sister. sister. sister. sister. sister. sister. sister. sister. sister. sister. sister.',\n",
       " '[01:09] Agent: There will be no time when you make the first year payment and surrender............................ sister. sister. sister. sister. sister. sister. sister. sister. sister. sister. sister. sister. sister. sister. sister. sister. sister. sister. sister. sister. sister. sister. sister. sister. sister. sister. sister. sister. sister. sister. sister. sister. sister. sister. sister. sister. sister. sister. sister. sister. sister. sister. sister. sister. sister. sister. sister. sister. sister. sister. sister. sister. sister. sister. sister. sister. sister. sister. sister. sister. sister. sister. sister. sister. sister. sister. sister. sister. sister. sister. sister. sister. sister. sister. sister. sister. sister. sister. sister. sister. sister. sister. sister. sister. sister. sister. sister. sister. sister. sister. sister. sister. sister. sister. sister. sister. sister. sister. sister. sister. sister. sister. sister. sister. sister. sister. sister. sister. sister. sister. sister. sister. sister. sister. sister. sister. sister. sister. sister. sister. sister. sister. sister. sister. sister. sister. sister. sister. sister. sister. sister. sister. sister. sister. sister. sister. sister. sister. sister. sister. sister. sister. sister. sister. sister. sister. sister. sister. sister. sister. sister. sister. sister. sister. sister. sister. sister. sister. sister. sister. sister. sister. sister. sister. sister. sister. sister. sister. sister. sister. sister. sister. sister. sister. sister. sister. sister. sister. sister. sister. sister. sister. sister. sister. sister. sister. sister. sister. sister. sister. sister. sister. sister. sister. sister. sister. sister. sister. sister. sister. sister. sister. sister. sister. sister. sister. sister. sister. sister. sister. sister. sister. sister. sister. sister. sister. sister. sister. sister. sister. sister.',\n",
       " '[01:14] Customer: Are you saying the amount will go away? Paid 60,000.............................................................................................. island. island. island. island. island. island. island. island. island. island. island. island. island. island. island. island. island. island. island. island. island. island. island. island. island. island. island. island. island. island. island. island. island. island. island. island. island. island. island. island. island. island. island. island. island. island. island. island. island. island. island. island. island. island. island. island. island. island. island. island. island. island. island. island. island. island. island. island. island. island. island. island. island. island. island. island. island. island. island. island. island. island. island. island. island. island. island. island. island. island. island. island. island. island. island. island. island. island. island. island. island. island. island. island. island. island. island. island. island. island. island. island. island. island. island. island. island. island. island. island. island. island. island. island. island. island. island. island. island. island. island. island. island. island. island. island. island. island. island. island. island. island. island. island. island. island. island. island. island. island. island. island. island. island. island.',\n",
       " \"[01:17] Agent: Oh yes. Because I had paid for at least three years. If you surrender, then the cash will be the second generator. So, when you do it, you're going to get three sums of money........................................................................ island. island. island. island. island. island. island. island. island. island. island. island. island. island. island. island. island. island. island. island. island. island. island. island. island. island. island. island. island. island. island. island. island. island. island. island. island. island. island. island. island. island. island. island. island. island. island. island. island. island. island. island. island. island. island. island. island. island. island. island. island. island. island. island. island. island. island. island. island. island. island. island. island. island. island. island. island. island. island. island. island. island. island. island. island. island. island. island. island. island. island. island. island. island. island. island. island. island. island. island. island. island. island. island. island. island. island. island. island. island. island. island. island. island. island. island. island. island. island. island. island. island. island. island. island. island. island. island. island. island. island. island. island. island. island. island. island. island. island. island. island. island. island. island. island. island. island. island. island. island. island. island. island. island. island. island. island. island. island. island. island. island.\",\n",
       " '[01:29] Agent: There is no point in making the first payment..................................... sister. sister. sister. sister. sister. sister. sister. sister. sister. sister. sister. sister. sister. sister. sister. sister. sister. sister. sister. sister. sister. sister. sister. sister. sister. sister. sister. sister. sister. sister. sister. sister. sister. sister. sister. sister. sister. sister. sister. sister. sister. sister. sister. sister. sister. sister. sister. sister. sister. sister. sister. sister. sister. sister. sister. sister. sister. sister. sister. sister. sister. sister. sister. sister. sister. sister. sister. sister. sister. sister. sister. sister. sister. sister. sister. sister. sister. sister. sister. sister. sister. sister. sister. sister. sister. sister. sister. sister. sister. sister. sister. sister. sister. sister. sister. sister. sister. sister. sister. sister. sister. sister. sister. sister. sister. sister. sister. sister. sister. sister. sister. sister. sister. sister. sister. sister. sister. sister. sister. sister. sister. sister. sister. sister. sister. sister. sister. sister. sister. sister. sister. sister. sister. sister. sister. sister. sister. sister. sister. sister. sister. sister. sister. sister. sister. sister. sister. sister. sister. sister. sister. sister. sister. sister. sister. sister. sister. sister. sister. sister. sister. sister. sister. sister. sister. sister. sister. sister. sister. sister. sister. sister. sister. sister. sister. sister. sister. sister. sister. sister. sister. sister. sister. sister. sister. sister. sister. sister. sister. sister. sister. sister. sister. sister. sister. sister. sister. sister. sister. sister. sister. sister. sister. sister. sister. sister. sister. sister. sister. sister. sister. sister. sister. sister. sister',\n",
       " '[01:34] Agent: If you take some time, you can do it.:::::::::::::::::::::::::::::::::::::::::::::::::::::::::::::::::::::::::::::::::::::::::::::::: thing: thing: thing: thing: thing: thing: thing: thing: thing: thing: thing: thing: thing: thing: thing: thing: thing: thing: thing: thing: thing: thing: thing: thing: thing: thing: thing: thing: thing: thing: thing: thing: thing: thing: thing: thing: thing: thing: thing: thing: thing: thing: thing: thing: thing: thing: thing: thing: thing: thing: thing: thing: thing: thing: thing: thing: thing: thing: thing: thing: thing: thing: thing: thing: thing: thing: thing: thing: thing: thing: thing: thing: thing: thing: thing: thing: thing: thing: thing: thing: thing: thing: thing: thing: thing: thing: thing: thing: thing: thing: thing: thing: thing: thing: thing: thing: thing: thing: thing: thing: thing: thing: thing: thing: thing: thing: thing: thing: thing: thing: thing: thing: thing: thing: thing: thing: thing: thing: thing: thing: thing: thing: thing: thing: thing: thing: thing: thing: thing: thing: thing: thing: thing: thing: thing: thing: thing: thing: thing: thing: thing: thing: thing: thing: thing: thing: thing: thing: thing: thing: thing: thing: thing: thing:',\n",
       " \"[01:38] Customer: Ok, I'll tell you...................................................... cause. cause. cause. cause. cause. cause. cause. cause. cause. cause. cause. cause. cause. cause. cause. cause. cause. cause. cause. cause. cause. cause. cause. cause. cause. cause. cause. cause. cause. cause. cause. cause. cause. cause. cause. cause. cause. cause. cause. cause. cause. cause. cause. cause. cause. cause. cause. cause. cause. cause. cause. cause. cause. cause. cause. cause. cause. cause. cause. cause. cause. cause. cause. cause. cause. cause. cause. cause. cause. cause. cause. cause. cause. cause. cause. cause. cause. cause. cause. cause. cause. cause. cause. cause. cause. cause. cause. cause. cause. cause. cause. cause. cause. cause. cause. cause. cause. cause. cause. cause. cause. cause. cause. cause. cause. cause. cause. cause. cause. cause. cause. cause. cause. cause. cause. cause. cause. cause. cause. cause. cause. cause. cause. cause. cause. cause. cause. cause. cause. cause. cause. cause. cause. cause. cause. cause. cause. cause. cause. cause. cause. cause. cause. cause. cause. cause. cause. cause. cause. cause. cause. cause. cause. cause. cause. cause. cause. cause. cause. cause. cause. cause. cause. cause. cause. cause. cause. cause. cause. cause. cause. cause. cause. cause. cause. cause. cause. cause. cause. cause. cause. cause. cause. cause. cause. cause. cause. cause. cause. cause. cause. cause. cause. cause. cause. cause. cause. cause. cause\",\n",
       " '[01:40] Agent: Ok what is the idea and tell me, there are policy status apps, zoom as is in the hole, there will be no benefit coming to the labs. Even if the case does not have that policy, we will not have any benefit. What did you do yesterday, sir, if you delay, there are a lot of chances, try to make a little bit of payment, then you will have a full bucket............................................................... treasure. treasure. treasure. treasure. treasure. treasure. treasure. treasure. treasure. treasure. treasure. treasure. treasure. treasure. treasure. treasure. treasure. treasure. treasure. treasure. treasure. treasure. treasure. treasure. treasure. treasure. treasure. treasure. treasure. treasure. treasure. treasure. treasure. treasure. treasure. treasure. treasure. treasure. treasure. treasure. treasure. treasure. treasure. treasure. treasure. treasure. treasure. treasure. treasure. treasure. treasure. treasure. treasure. treasure. treasure. treasure. treasure. treasure. treasure. treasure. treasure. treasure. treasure. treasure. treasure. treasure. treasure. treasure. treasure. treasure. treasure. treasure. treasure. treasure. treasure. treasure. treasure. treasure. treasure. treasure. treasure. treasure. treasure. treasure. treasure. treasure. treasure. treasure. treasure. treasure. treasure. treasure. treasure. treasure. treasure. treasure. treasure. treasure. treasure. treasure. treasure. treasure. treasure. treasure. treasure. treasure. treasure. treasure. treasure. treasure. treasure. treasure. treasure. treasure. treasure. treasure. treasure. treasure. treasure. treasure. treasure. treasure. treasure. treasure. treasure. treasure. treasure. treasure. treasure. treasure. treasure. treasure. treasure. treasure. treasure. treasure. treasure. treasure. treasure. treasure. treasure. treasure. treasure. treasure. treasure. treasure. treasure. treasure',\n",
       " '[01:59] Agent: Okay, your policy number is 149607100 29.................................................... agent. agent. agent. agent. agent. agent. agent. agent. agent. agent.. agent. agent. agent. agent. agent. agent. agent. agent. agent. agent. agent. agent. agent. agent. agent. agent. agent. agent. agent. agent. agent. agent. agent. agent. agent. agent. agent. agent. agent. agent. agent. agent. agent. agent. agent. agent. agent. agent. agent. agent. agent. agent. agent. agent. agent. agent. agent. agent. agent. agent. agent. agent. agent. agent. agent. agent. agent. agent. agent. agent. agent. agent. agent. agent. agent. agent. agent. agent. agent. agent. agent. agent. agent. agent. agent. agent. agent. agent. agent. agent. agent. agent. agent. agent. agent. agent. agent. agent. agent. agent. agent. agent. agent. agent. agent. agent. agent. agent. agent. agent. agent. agent. agent. agent. agent. agent. agent. agent. agent. agent. agent. agent. agent. agent. agent. agent. agent. agent. agent. agent. agent. agent. agent. agent. agent. agent. agent. agent. agent. agent. agent. agent. agent. agent. agent. agent. agent. agent. agent. agent. agent. agent. agent. agent. agent. agent. agent. agent. agent. agent. agent. agent. agent. agent. agent. agent. agent. agent. agent. agent. agent. agent. agent. agent. agent. agent. agent. agent. agent. agent. agent. agent. agent. agent. agent. agent. agent. agent. agent. agent. agent. agent. agent. agent. agent. agent. agent. agent',\n",
       " '[02:01] Customer: Okay.............. pitch. pitch. pitch. pitch. pitch. pitch. pitch. pitch. pitch. pitch. pitch. pitch. pitch. pitch. pitch. pitch. pitch. pitch. pitch. pitch. pitch. pitch. pitch. pitch. pitch. pitch. pitch. pitch. pitch. pitch. pitch. pitch. pitch. pitch. pitch. pitch. pitch. pitch. pitch. pitch. pitch. pitch. pitch. pitch. pitch. pitch. pitch. pitch. pitch. pitch. pitch. pitch. pitch. pitch. pitch. pitch. pitch. pitch. pitch. pitch. pitch. pitch. pitch. pitch. pitch. pitch. pitch. pitch. pitch. pitch. pitch. pitch. pitch. pitch. pitch. pitch. pitch. pitch. pitch. pitch. pitch. pitch. pitch. pitch. pitch. pitch. pitch. pitch. pitch. pitch. pitch. pitch. pitch. pitch. pitch. pitch. pitch. pitch. pitch. pitch. pitch. pitch. pitch. pitch. pitch. pitch. pitch. pitch. pitch. pitch. pitch. pitch. pitch. pitch. pitch. pitch. pitch. pitch. pitch. pitch. pitch. pitch. pitch. pitch. pitch. pitch. pitch. pitch. pitch. pitch. pitch. pitch. pitch. pitch. pitch. pitch. pitch. pitch. pitch. pitch. pitch. pitch. pitch. pitch. pitch. pitch. pitch. pitch. pitch. pitch. pitch. pitch. pitch. pitch. pitch. pitch. pitch. pitch. pitch. pitch. pitch. pitch. pitch. pitch. pitch. pitch. pitch. pitch. pitch. pitch. pitch. pitch. pitch. pitch. pitch. pitch. pitch. pitch. pitch. pitch. pitch. pitch. pitch. pitch. pitch. pitch. pitch. pitch. pitch. pitch. pitch. pitch. pitch. pitch. pitch. pitch. pitch. pitch. pitch. pitch. pitch. pitch. pitch. pitch. pitch. pitch. pitch. pitch. pitch. pitch. pitch. pitch. pitch. pitch. pitch. pitch. pitch. pitch. pitch. pitch. pitch. pitch. pitch. pitch. pitch. pitch. pitch. pitch. pitch. pitch. pitch. pitch. pitch. pitch. pitch. pitch. pitch. pitch. pitch. pitch. pitch. pitch',\n",
       " '[02:04] Agent: Maxsmart Worth Advantage Growth Per Plus Institute Income 50 has to pay 66,200 thirty  7 on a TV that closed in 2024.................................................................................................................................. pitch. pitch. pitch. pitch. pitch. pitch. pitch. pitch. pitch. pitch. pitch. pitch. pitch. pitch. pitch. pitch. pitch. pitch. pitch. pitch. pitch. pitch. pitch. pitch. pitch. pitch. pitch. pitch. pitch. pitch. pitch. pitch. pitch. pitch. pitch. pitch. pitch. pitch. pitch. pitch. pitch. pitch. pitch. pitch. pitch. pitch. pitch. pitch. pitch. pitch. pitch. pitch. pitch. pitch. pitch. pitch. pitch. pitch. pitch. pitch. pitch. pitch. pitch. pitch. pitch. pitch. pitch. pitch. pitch. pitch. pitch. pitch. pitch. pitch. pitch. pitch. pitch. pitch. pitch. pitch. pitch. pitch. pitch. pitch. pitch. pitch. pitch. pitch. pitch. pitch. pitch. pitch. pitch. pitch. pitch. pitch. pitch. pitch. pitch. pitch. pitch. pitch. pitch. pitch. pitch. pitch. pitch. pitch. pitch. pitch.',\n",
       " \"[02:14] Agent: I will give you something called Valuable Customer Care Special Reversal Skim. The SRS option was a year ago for you. We did it six months ago. If you build it six months ago, that's enough. This will give you a six shift at the maturity rate. Paying time is six shifts. The policy benefit is six shifts... . . . . . . . . . . . . . . . . . . . . . . . . . . . . . . . . . . . . . . . . . . . . . . . . . . . . . . . . . . . . . . . . . . . . . . . . . . . . . . . . . . . . . . . . . . . . . . . . . . . . . . . . . . . . . . . . . . . . . . . . . . . . . . . . . . . . . . . . . . . . . . . . . . . . . . . . . . . . . . . . . . . . . . . . . . . . . . . . . . . . . . . . . . . . . . . . . . . . . . . . . . . . . . . . . . . . . .\",\n",
       " '[02:32] Agent: Can you take six months to build it? The policy will be active. will be active. will be active. will be active. will be active. will be active. will be active. will be active. will be active. will be active. will be active. will be active. will be active. will be active. will be active. will be active. will be active. will be active. will be active. will be active. will be active. will be active. will be active. will be active. will be active. will be active. will be active. will be active. will be active. will be active. will be active. will be active. will be active. will be active. will be active. will be active. will be active. will be active. will be active. will be active. will be active. will be active. will be active. will be active. will be active. will be active. will be active. will be active. will be active. will be active. will be active. will be active. will be active. will be active. will be active. will be active. will be active. will be active. will be active. will be active. will be active. will be active. will be active. will be active. will be active. will be active. will be active. will be active. will be active. will be active. will be active. will be active. will be active. will be active. will be active. will be active. will be active. will be active. will be active. will be active. will be active. will be active. will be active. will be active. will be active. will be active. will be active. will be active. will be active. will be active. will be active. will be active. will be active. will be active. will be active. will be active. will be active. will be active. will be active. will be active.',\n",
       " '[02:37] Customer: me and tell me if I got something from you..................................................... phrase. phrase. phrase. phrase. phrase. phrase. phrase. phrase. phrase. phrase. phrase. phrase. phrase. phrase. phrase. phrase. phrase. phrase. phrase. phrase. phrase. phrase. phrase. phrase. phrase. phrase. phrase. phrase. phrase. phrase. phrase. phrase. phrase. phrase. phrase. phrase. phrase. phrase. phrase. phrase. phrase. phrase. phrase. phrase. phrase. phrase. phrase. phrase. phrase. phrase. phrase. phrase. phrase. phrase. phrase. phrase. phrase. phrase. phrase. phrase. phrase. phrase. phrase. phrase. phrase. phrase. phrase. phrase. phrase. phrase. phrase. phrase. phrase. phrase. phrase. phrase. phrase. phrase. phrase. phrase. phrase. phrase. phrase. phrase. phrase. phrase. phrase. phrase. phrase. phrase. phrase. phrase. phrase. phrase. phrase. phrase. phrase. phrase. phrase. phrase. phrase. phrase. phrase. phrase. phrase. phrase. phrase. phrase. phrase. phrase. phrase. phrase. phrase. phrase. phrase. phrase. phrase. phrase. phrase. phrase. phrase. phrase. phrase. phrase. phrase. phrase. phrase. phrase. phrase. phrase. phrase. phrase. phrase. phrase. phrase. phrase. phrase. phrase. phrase. phrase. phrase. phrase. phrase. phrase. phrase. phrase. phrase. phrase. phrase. phrase. phrase. phrase. phrase. phrase. phrase. phrase. phrase. phrase. phrase. phrase. phrase. phrase. phrase. phrase. phrase. phrase. phrase. phrase. phrase. phrase. phrase. phrase. phrase. phrase. phrase. phrase. phrase. phrase. phrase. phrase. phrase. phrase. phrase. phrase. phrase. phrase. phrase. phrase. phrase. phrase. phrase. phrase. phrase. phrase. phrase. phrase. phrase. phrase',\n",
       " '[02:39] Agent: Ok....................................................................................................................................................................................... property. property. property. property. property. property. property. property. property. property. property. property. property. property. property. property. property. property. property. property. property. property. property. property. property. property. property. property. property. property. property. property. property. property. property. property. property. property. property. property. property. property. property. property. property. property. property. property. property. property. property. property. property. property. property. property. property. property. property. property. property. property. property. property. property. property. property. property. property. property. property. property. property',\n",
       " '[02:41] Agent: Okay............. pitch. pitch. pitch. pitch. pitch. pitch. pitch. pitch. pitch. pitch. pitch. pitch. pitch. pitch. pitch. pitch. pitch. pitch. pitch. pitch. pitch. pitch. pitch. pitch. pitch. pitch. pitch. pitch. pitch. pitch. pitch. pitch. pitch. pitch. pitch. pitch. pitch. pitch. pitch. pitch. pitch. pitch. pitch. pitch. pitch. pitch. pitch. pitch. pitch. pitch. pitch. pitch. pitch. pitch. pitch. pitch. pitch. pitch. pitch. pitch. pitch. pitch. pitch. pitch. pitch. pitch. pitch. pitch. pitch. pitch. pitch. pitch. pitch. pitch. pitch. pitch. pitch. pitch. pitch. pitch. pitch. pitch. pitch. pitch. pitch. pitch. pitch. pitch. pitch. pitch. pitch. pitch. pitch. pitch. pitch. pitch. pitch. pitch. pitch. pitch. pitch. pitch. pitch. pitch. pitch. pitch. pitch. pitch. pitch. pitch. pitch. pitch. pitch. pitch. pitch. pitch. pitch. pitch. pitch. pitch. pitch. pitch. pitch. pitch. pitch. pitch. pitch. pitch. pitch. pitch. pitch. pitch. pitch. pitch. pitch. pitch. pitch. pitch. pitch. pitch. pitch. pitch. pitch. pitch. pitch. pitch. pitch. pitch. pitch. pitch. pitch. pitch. pitch. pitch. pitch. pitch. pitch. pitch. pitch. pitch. pitch. pitch. pitch. pitch. pitch. pitch. pitch. pitch. pitch. pitch. pitch. pitch. pitch. pitch. pitch. pitch. pitch. pitch. pitch. pitch. pitch. pitch. pitch. pitch. pitch. pitch. pitch. pitch. pitch. pitch. pitch. pitch. pitch. pitch. pitch. pitch. pitch. pitch. pitch. pitch. pitch. pitch. pitch. pitch. pitch. pitch. pitch. pitch. pitch. pitch. pitch. pitch. pitch. pitch. pitch. pitch. pitch. pitch. pitch. pitch. pitch. pitch. pitch. pitch. pitch. pitch. pitch. pitch. pitch. pitch. pitch. pitch. pitch. pitch. pitch. pitch. pitch. pitch. pitch. pitch. pitch. pitch. pitch',\n",
       " \"[02:45] Agent: Okay, ma'am, in case special to make the details to make the details, so we will sum the health declaration form. I'm going to make a call back for the next week. So, just inform me what's going on, okay?::............ . . . . . . . . . . . . . . . . . . . . . . . . . . . . . . . . . . . . . . . . . . . . . . . . . . . . . . . . . . . . . . . . . . . . . . . . . . . . . . . . . . . . . . . . . . . . . . . . . . . . . . . . . . . . . . . . . . . . . . . . . . . . . . . . . . . . . . . . . . . . . . . . . . . . . . . . . . . . . . . . . . . . . . . . . . . . . . . . . . . . . . . . . . . . . . . . . . . . . . . . . . . . . . . . . . . . . .\",\n",
       " '[02:57] Customer: Okay.............. pitch. pitch. pitch. pitch. pitch. pitch. pitch. pitch. pitch. pitch. pitch. pitch. pitch. pitch. pitch. pitch. pitch. pitch. pitch. pitch. pitch. pitch. pitch. pitch. pitch. pitch. pitch. pitch. pitch. pitch. pitch. pitch. pitch. pitch. pitch. pitch. pitch. pitch. pitch. pitch. pitch. pitch. pitch. pitch. pitch. pitch. pitch. pitch. pitch. pitch. pitch. pitch. pitch. pitch. pitch. pitch. pitch. pitch. pitch. pitch. pitch. pitch. pitch. pitch. pitch. pitch. pitch. pitch. pitch. pitch. pitch. pitch. pitch. pitch. pitch. pitch. pitch. pitch. pitch. pitch. pitch. pitch. pitch. pitch. pitch. pitch. pitch. pitch. pitch. pitch. pitch. pitch. pitch. pitch. pitch. pitch. pitch. pitch. pitch. pitch. pitch. pitch. pitch. pitch. pitch. pitch. pitch. pitch. pitch. pitch. pitch. pitch. pitch. pitch. pitch. pitch. pitch. pitch. pitch. pitch. pitch. pitch. pitch. pitch. pitch. pitch. pitch. pitch. pitch. pitch. pitch. pitch. pitch. pitch. pitch. pitch. pitch. pitch. pitch. pitch. pitch. pitch. pitch. pitch. pitch. pitch. pitch. pitch. pitch. pitch. pitch. pitch. pitch. pitch. pitch. pitch. pitch. pitch. pitch. pitch. pitch. pitch. pitch. pitch. pitch. pitch. pitch. pitch. pitch. pitch. pitch. pitch. pitch. pitch. pitch. pitch. pitch. pitch. pitch. pitch. pitch. pitch. pitch. pitch. pitch. pitch. pitch. pitch. pitch. pitch. pitch. pitch. pitch. pitch. pitch. pitch. pitch. pitch. pitch. pitch. pitch. pitch. pitch. pitch. pitch. pitch. pitch. pitch. pitch. pitch. pitch. pitch. pitch. pitch. pitch. pitch. pitch. pitch. pitch. pitch. pitch. pitch. pitch. pitch. pitch. pitch. pitch. pitch. pitch. pitch. pitch. pitch. pitch. pitch. pitch. pitch. pitch. pitch. pitch. pitch. pitch. pitch',\n",
       " '[02:58] Agent: Okay, do you need any more information?::::::::::::::::::::::::::::::::::::::::::::::::::::::::::::::::::::::::::::::: thing: thing: thing: thing: thing: thing: thing: thing: thing: thing: thing: thing: thing: thing: thing: thing: thing: thing: thing: thing: thing: thing: thing: thing: thing: thing: thing: thing: thing: thing: thing: thing: thing: thing: thing: thing: thing: thing: thing: thing: thing: thing: thing: thing: thing: thing: thing: thing: thing: thing: thing: thing: thing: thing: thing: thing: thing: thing: thing: thing: thing: thing: thing: thing: thing: thing: thing: thing: thing: thing: thing: thing: thing: thing: thing: thing: thing: thing: thing: thing: thing: thing: thing: thing: thing: thing: thing: thing: thing: thing: thing: thing: thing: thing: thing: thing: thing: thing: thing: thing: thing: thing: thing: thing: thing: thing: thing: thing: thing: thing: thing: thing: thing: thing: thing: thing: thing: thing: thing: thing: thing: thing: thing: thing: thing: thing: thing: thing: thing: thing: thing: thing: thing: thing: thing: thing: thing: thing: thing: thing: thing: thing: thing: thing: thing: thing: thing: thing: thing: thing: thing: thing: thing: thing: thing: thing: thing: thing: thing: thing: thing: thing: thing: thing: thing: thing: thing: thing: thing: thing: thing: thing:',\n",
       " '[03:01] Customer: Tell me no time, thank you................................................. sister. sister. sister. sister. sister. sister. sister. sister. sister. sister. sister. sister. sister. sister. sister. sister. sister. sister. sister. sister. sister. sister. sister. sister. sister. sister. sister. sister. sister. sister. sister. sister. sister. sister. sister. sister. sister. sister. sister. sister. sister. sister. sister. sister. sister. sister. sister. sister. sister. sister. sister. sister. sister. sister. sister. sister. sister. sister. sister. sister. sister. sister. sister. sister. sister. sister. sister. sister. sister. sister. sister. sister. sister. sister. sister. sister. sister. sister. sister. sister. sister. sister. sister. sister. sister. sister. sister. sister. sister. sister. sister. sister. sister. sister. sister. sister. sister. sister. sister. sister. sister. sister. sister. sister. sister. sister. sister. sister. sister. sister. sister. sister. sister. sister. sister. sister. sister. sister. sister. sister. sister. sister. sister. sister. sister. sister. sister. sister. sister. sister. sister. sister. sister. sister. sister. sister. sister. sister. sister. sister. sister. sister. sister. sister. sister. sister. sister. sister. sister. sister. sister. sister. sister. sister. sister. sister. sister. sister. sister. sister. sister. sister. sister. sister. sister. sister. sister. sister. sister. sister. sister. sister. sister. sister. sister. sister. sister. sister. sister. sister. sister. sister. sister. sister. sister. sister. sister. sister. sister. sister. sister. sister. sister. sister. sister. sister. sister. sister. sister. sister. sister. sister. sister. sister',\n",
       " '[03:02] Agent: Have you updated your mobile number and email ID?..................................................... island. island. island. island. island. island. island. island. island. island. island. island. island. island. island. island. island. island. island. island. island. island. island. island. island. island. island. island. island. island. island. island. island. island. island. island. island. island. island. island. island. island. island. island. island. island. island. island. island. island. island. island. island. island. island. island. island. island. island. island. island. island. island. island. island. island. island. island. island. island. island. island. island. island. island. island. island. island. island. island. island. island. island. island. island. island. island. island. island. island. island. island. island. island. island. island. island. island. island. island. island. island. island. island. island. island. island. island. island. island. island. island. island. island. island. island. island. island. island. island. island. island. island. island. island. island. island. island. island. island. island. island. island. island. island. island. island. island. island. island. island. island. island. island. island. island. island. island. island. island. island. island. island. island. island. island. island. island. island. island. island. island. island. island. island. island. island. island. island. island. island. island. island. island. island. island. island. island. island. island. island. island. island. island. island. island. island. island. island. island. island. island. island. island. island. island. island.',\n",
       " \"[03:05] Customer: No, ma'am........................................................... cause. cause. cause. cause. cause. cause. cause. cause. cause. cause. cause. cause. cause. cause. cause. cause. cause. cause. cause. cause. cause. cause. cause. cause. cause. cause. cause. cause. cause. cause. cause. cause. cause. cause. cause. cause. cause. cause. cause. cause. cause. cause. cause. cause. cause. cause. cause. cause. cause. cause. cause. cause. cause. cause. cause. cause. cause. cause. cause. cause. cause. cause. cause. cause. cause. cause. cause. cause. cause. cause. cause. cause. cause. cause. cause. cause. cause. cause. cause. cause. cause. cause. cause. cause. cause. cause. cause. cause. cause. cause. cause. cause. cause. cause. cause. cause. cause. cause. cause. cause. cause. cause. cause. cause. cause. cause. cause. cause. cause. cause. cause. cause. cause. cause. cause. cause. cause. cause. cause. cause. cause. cause. cause. cause. cause. cause. cause. cause. cause. cause. cause. cause. cause. cause. cause. cause. cause. cause. cause. cause. cause. cause. cause. cause. cause. cause. cause. cause. cause. cause. cause. cause. cause. cause. cause. cause. cause. cause. cause. cause. cause. cause. cause. cause. cause. cause. cause. cause. cause. cause. cause. cause. cause. cause. cause. cause. cause. cause. cause. cause. cause. cause. cause. cause. cause. cause. cause. cause. cause. cause. cause. cause. cause. cause. cause\",\n",
       " '[03:06] Agent: Ok access must life insurance time thank you...................................................... phrase. phrase. phrase. phrase. phrase. phrase. phrase. phrase. phrase. phrase. phrase. phrase. phrase. phrase. phrase. phrase. phrase. phrase. phrase. phrase. phrase. phrase. phrase. phrase. phrase. phrase. phrase. phrase. phrase. phrase. phrase. phrase. phrase. phrase. phrase. phrase. phrase. phrase. phrase. phrase. phrase. phrase. phrase. phrase. phrase. phrase. phrase. phrase. phrase. phrase. phrase. phrase. phrase. phrase. phrase. phrase. phrase. phrase. phrase. phrase. phrase. phrase. phrase. phrase. phrase. phrase. phrase. phrase. phrase. phrase. phrase. phrase. phrase. phrase. phrase. phrase. phrase. phrase. phrase. phrase. phrase. phrase. phrase. phrase. phrase. phrase. phrase. phrase. phrase. phrase. phrase. phrase. phrase. phrase. phrase. phrase. phrase. phrase. phrase. phrase. phrase. phrase. phrase. phrase. phrase. phrase. phrase. phrase. phrase. phrase. phrase. phrase. phrase. phrase. phrase. phrase. phrase. phrase. phrase. phrase. phrase. phrase. phrase. phrase. phrase. phrase. phrase. phrase. phrase. phrase. phrase. phrase. phrase. phrase. phrase. phrase. phrase. phrase. phrase. phrase. phrase. phrase. phrase. phrase. phrase. phrase. phrase. phrase. phrase. phrase. phrase. phrase. phrase. phrase. phrase. phrase. phrase. phrase. phrase. phrase. phrase. phrase. phrase. phrase. phrase. phrase. phrase. phrase. phrase. phrase. phrase. phrase. phrase. phrase. phrase. phrase. phrase. phrase. phrase. phrase. phrase. phrase. phrase. phrase. phrase. phrase. phrase. phrase. phrase. phrase. phrase. phrase. phrase. phrase. phrase. phrase. phrase. phrase.']"
      ]
     },
     "execution_count": 26,
     "metadata": {},
     "output_type": "execute_result"
    }
   ],
   "source": [
    "dialog_lines"
   ]
  }
 ],
 "metadata": {
  "accelerator": "GPU",
  "colab": {
   "authorship_tag": "ABX9TyM2FacKfMsla8SCVRDOihQQ",
   "gpuType": "T4",
   "provenance": []
  },
  "kernelspec": {
   "display_name": "Python 3",
   "name": "python3"
  },
  "language_info": {
   "name": "python"
  }
 },
 "nbformat": 4,
 "nbformat_minor": 0
}
